{
 "cells": [
  {
   "cell_type": "markdown",
   "id": "2616d646",
   "metadata": {},
   "source": [
    "# Tokenization Example"
   ]
  },
  {
   "cell_type": "code",
   "execution_count": 14,
   "id": "c93cad84",
   "metadata": {},
   "outputs": [
    {
     "name": "stderr",
     "output_type": "stream",
     "text": [
      "[nltk_data] Downloading package punkt to\n",
      "[nltk_data]     C:\\Users\\Aditya\\AppData\\Roaming\\nltk_data...\n",
      "[nltk_data]   Package punkt is already up-to-date!\n"
     ]
    },
    {
     "data": {
      "text/plain": [
       "True"
      ]
     },
     "execution_count": 14,
     "metadata": {},
     "output_type": "execute_result"
    }
   ],
   "source": [
    "import nltk\n",
    "nltk.download('punkt')"
   ]
  },
  {
   "cell_type": "code",
   "execution_count": 15,
   "id": "54bec961",
   "metadata": {},
   "outputs": [
    {
     "name": "stderr",
     "output_type": "stream",
     "text": [
      "[nltk_data] Downloading package punkt_tab to\n",
      "[nltk_data]     C:\\Users\\Aditya\\AppData\\Roaming\\nltk_data...\n",
      "[nltk_data]   Package punkt_tab is already up-to-date!\n"
     ]
    },
    {
     "data": {
      "text/plain": [
       "True"
      ]
     },
     "execution_count": 15,
     "metadata": {},
     "output_type": "execute_result"
    }
   ],
   "source": [
    "nltk.download('punkt_tab')"
   ]
  },
  {
   "cell_type": "code",
   "execution_count": 16,
   "id": "1a5468f6",
   "metadata": {},
   "outputs": [],
   "source": [
    "corpus = \"\"\"\n",
    "Hi, I am Aditya Rawat. I am currently studing AI. I am studing BCA from GEU.\n",
    "\"\"\""
   ]
  },
  {
   "cell_type": "markdown",
   "id": "f08b6225",
   "metadata": {},
   "source": [
    "### Tokenization\n",
    "#### Paragraph -> Sentence"
   ]
  },
  {
   "cell_type": "code",
   "execution_count": 17,
   "id": "b9044c41",
   "metadata": {},
   "outputs": [],
   "source": [
    "from nltk.tokenize import sent_tokenize"
   ]
  },
  {
   "cell_type": "code",
   "execution_count": 20,
   "id": "a2fcf8ec",
   "metadata": {},
   "outputs": [
    {
     "data": {
      "text/plain": [
       "['\\nHi, I am Aditya Rawat.',\n",
       " 'I am currently studing AI.',\n",
       " 'I am studing BCA from GEU.']"
      ]
     },
     "execution_count": 20,
     "metadata": {},
     "output_type": "execute_result"
    }
   ],
   "source": [
    "documents = sent_tokenize(corpus, language=\"english\")\n",
    "documents"
   ]
  },
  {
   "cell_type": "code",
   "execution_count": 21,
   "id": "7328bf42",
   "metadata": {},
   "outputs": [
    {
     "data": {
      "text/plain": [
       "list"
      ]
     },
     "execution_count": 21,
     "metadata": {},
     "output_type": "execute_result"
    }
   ],
   "source": [
    "type(documents)"
   ]
  },
  {
   "cell_type": "markdown",
   "id": "da976af6",
   "metadata": {},
   "source": [
    "#### Paragraph ---> words"
   ]
  },
  {
   "cell_type": "code",
   "execution_count": 22,
   "id": "438e7f50",
   "metadata": {},
   "outputs": [
    {
     "data": {
      "text/plain": [
       "['Hi',\n",
       " ',',\n",
       " 'I',\n",
       " 'am',\n",
       " 'Aditya',\n",
       " 'Rawat',\n",
       " '.',\n",
       " 'I',\n",
       " 'am',\n",
       " 'currently',\n",
       " 'studing',\n",
       " 'AI',\n",
       " '.',\n",
       " 'I',\n",
       " 'am',\n",
       " 'studing',\n",
       " 'BCA',\n",
       " 'from',\n",
       " 'GEU',\n",
       " '.']"
      ]
     },
     "execution_count": 22,
     "metadata": {},
     "output_type": "execute_result"
    }
   ],
   "source": [
    "from nltk.tokenize import word_tokenize\n",
    "word_tokenize(corpus)"
   ]
  },
  {
   "cell_type": "markdown",
   "id": "2bf99006",
   "metadata": {},
   "source": [
    "#### Paragraph -> Sentence -> Word"
   ]
  },
  {
   "cell_type": "code",
   "execution_count": 23,
   "id": "24d2de19",
   "metadata": {},
   "outputs": [
    {
     "name": "stdout",
     "output_type": "stream",
     "text": [
      "['Hi', ',', 'I', 'am', 'Aditya', 'Rawat', '.']\n",
      "['I', 'am', 'currently', 'studing', 'AI', '.']\n",
      "['I', 'am', 'studing', 'BCA', 'from', 'GEU', '.']\n"
     ]
    }
   ],
   "source": [
    "for sentence in documents:\n",
    "    print(word_tokenize(sentence))"
   ]
  },
  {
   "cell_type": "code",
   "execution_count": null,
   "id": "4b47abfc",
   "metadata": {},
   "outputs": [
    {
     "data": {
      "text/plain": [
       "['Hi',\n",
       " ',',\n",
       " 'I',\n",
       " 'am',\n",
       " 'Aditya',\n",
       " 'Rawat',\n",
       " '.',\n",
       " 'I',\n",
       " 'am',\n",
       " 'currently',\n",
       " 'studing',\n",
       " 'AI',\n",
       " '.',\n",
       " 'I',\n",
       " 'am',\n",
       " 'studing',\n",
       " 'BCA',\n",
       " 'from',\n",
       " 'GEU',\n",
       " '.']"
      ]
     },
     "execution_count": 24,
     "metadata": {},
     "output_type": "execute_result"
    }
   ],
   "source": [
    "from nltk.tokenize import wordpunct_tokenize\n",
    "wordpunct_tokenize(corpus) # it will take care of punctuation also"
   ]
  },
  {
   "cell_type": "code",
   "execution_count": null,
   "id": "e5002fe9",
   "metadata": {},
   "outputs": [],
   "source": [
    "from nltk.tokenize import TreebankWordTokenizer\n",
    "tokenizer = TreebankWordTokenizer() # full stop isn't considered separate word, except the last full stop."
   ]
  },
  {
   "cell_type": "code",
   "execution_count": null,
   "id": "5b02528f",
   "metadata": {},
   "outputs": [
    {
     "data": {
      "text/plain": [
       "['Hi',\n",
       " ',',\n",
       " 'I',\n",
       " 'am',\n",
       " 'Aditya',\n",
       " 'Rawat.',\n",
       " 'I',\n",
       " 'am',\n",
       " 'currently',\n",
       " 'studing',\n",
       " 'AI.',\n",
       " 'I',\n",
       " 'am',\n",
       " 'studing',\n",
       " 'BCA',\n",
       " 'from',\n",
       " 'GEU',\n",
       " '.']"
      ]
     },
     "execution_count": 26,
     "metadata": {},
     "output_type": "execute_result"
    }
   ],
   "source": [
    "tokenizer.tokenize(corpus)"
   ]
  },
  {
   "cell_type": "code",
   "execution_count": null,
   "id": "4a1ed692",
   "metadata": {},
   "outputs": [],
   "source": []
  }
 ],
 "metadata": {
  "kernelspec": {
   "display_name": "venv (3.11.8)",
   "language": "python",
   "name": "python3"
  },
  "language_info": {
   "codemirror_mode": {
    "name": "ipython",
    "version": 3
   },
   "file_extension": ".py",
   "mimetype": "text/x-python",
   "name": "python",
   "nbconvert_exporter": "python",
   "pygments_lexer": "ipython3",
   "version": "3.11.8"
  }
 },
 "nbformat": 4,
 "nbformat_minor": 5
}
