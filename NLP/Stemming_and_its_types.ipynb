{
 "cells": [
  {
   "cell_type": "markdown",
   "id": "f18c50fe",
   "metadata": {},
   "source": [
    "# Stemming and its types"
   ]
  },
  {
   "cell_type": "code",
   "execution_count": 3,
   "id": "4fef547d",
   "metadata": {},
   "outputs": [],
   "source": [
    "words = ['eating','eaten','eater','writing','writes','write','written','wrote','program','programming','history','final','finalize']"
   ]
  },
  {
   "cell_type": "markdown",
   "id": "352b82bb",
   "metadata": {},
   "source": [
    "## PorterStemmer"
   ]
  },
  {
   "cell_type": "code",
   "execution_count": 4,
   "id": "9b94597b",
   "metadata": {},
   "outputs": [
    {
     "name": "stdout",
     "output_type": "stream",
     "text": [
      "eating--->eat\n",
      "eaten--->eaten\n",
      "eater--->eater\n",
      "writing--->write\n",
      "writes--->write\n",
      "write--->write\n",
      "written--->written\n",
      "wrote--->wrote\n",
      "program--->program\n",
      "programming--->program\n",
      "history--->histori\n",
      "final--->final\n",
      "finalize--->final\n"
     ]
    }
   ],
   "source": [
    "from nltk.stem import PorterStemmer\n",
    "stemming = PorterStemmer()\n",
    "for word in words:\n",
    "    print(word + '--->' + stemming.stem(word))"
   ]
  },
  {
   "cell_type": "markdown",
   "id": "2faeb7b7",
   "metadata": {},
   "source": [
    "## RegexpStemmer Class"
   ]
  },
  {
   "cell_type": "code",
   "execution_count": 8,
   "id": "5cf6eb79",
   "metadata": {},
   "outputs": [],
   "source": [
    "from nltk.stem import RegexpStemmer\n",
    "reg_stemmer = RegexpStemmer('ing$|s$|es$|able$', min=4)"
   ]
  },
  {
   "cell_type": "code",
   "execution_count": 9,
   "id": "91a4937f",
   "metadata": {},
   "outputs": [
    {
     "data": {
      "text/plain": [
       "'eat'"
      ]
     },
     "execution_count": 9,
     "metadata": {},
     "output_type": "execute_result"
    }
   ],
   "source": [
    "reg_stemmer.stem('eating')"
   ]
  },
  {
   "cell_type": "markdown",
   "id": "6f6c7548",
   "metadata": {},
   "source": [
    "## Snowball Stemmer"
   ]
  },
  {
   "cell_type": "code",
   "execution_count": 10,
   "id": "c203ffde",
   "metadata": {},
   "outputs": [],
   "source": [
    "from nltk.stem import SnowballStemmer"
   ]
  },
  {
   "cell_type": "code",
   "execution_count": 11,
   "id": "6881d5bc",
   "metadata": {},
   "outputs": [],
   "source": [
    "snowball_stemmer = SnowballStemmer('english')"
   ]
  },
  {
   "cell_type": "code",
   "execution_count": 12,
   "id": "6bcf2905",
   "metadata": {},
   "outputs": [
    {
     "name": "stdout",
     "output_type": "stream",
     "text": [
      "eating--->eat\n",
      "eaten--->eaten\n",
      "eater--->eater\n",
      "writing--->write\n",
      "writes--->write\n",
      "write--->write\n",
      "written--->written\n",
      "wrote--->wrote\n",
      "program--->program\n",
      "programming--->program\n",
      "history--->histori\n",
      "final--->final\n",
      "finalize--->final\n"
     ]
    }
   ],
   "source": [
    "for word in words:\n",
    "    print( word + '--->' + snowball_stemmer.stem(word))"
   ]
  },
  {
   "cell_type": "markdown",
   "id": "4212323d",
   "metadata": {},
   "source": [
    "## Lemmatization"
   ]
  },
  {
   "cell_type": "code",
   "execution_count": 13,
   "id": "5307b4ea",
   "metadata": {},
   "outputs": [],
   "source": [
    "from nltk.stem import WordNetLemmatizer"
   ]
  },
  {
   "cell_type": "code",
   "execution_count": 14,
   "id": "e6ac47ab",
   "metadata": {},
   "outputs": [],
   "source": [
    "lemmatizer = WordNetLemmatizer()"
   ]
  },
  {
   "cell_type": "code",
   "execution_count": 21,
   "id": "09e2bce4",
   "metadata": {},
   "outputs": [
    {
     "data": {
      "text/plain": [
       "'go'"
      ]
     },
     "execution_count": 21,
     "metadata": {},
     "output_type": "execute_result"
    }
   ],
   "source": [
    "'''\n",
    "pos = {\n",
    "    noun - n\n",
    "    verb - v\n",
    "    adjective - a\n",
    "    adverb - r\n",
    "}\n",
    "'''\n",
    "\n",
    "lemmatizer.lemmatize(\"going\", pos='v')"
   ]
  },
  {
   "cell_type": "code",
   "execution_count": 22,
   "id": "3d0ae74d",
   "metadata": {},
   "outputs": [
    {
     "name": "stdout",
     "output_type": "stream",
     "text": [
      "eating--->eat\n",
      "eaten--->eat\n",
      "eater--->eater\n",
      "writing--->write\n",
      "writes--->write\n",
      "write--->write\n",
      "written--->write\n",
      "wrote--->write\n",
      "program--->program\n",
      "programming--->program\n",
      "history--->history\n",
      "final--->final\n",
      "finalize--->finalize\n"
     ]
    }
   ],
   "source": [
    "for word in words:\n",
    "    print( word + '--->' + lemmatizer.lemmatize(word, pos='v'))"
   ]
  },
  {
   "cell_type": "code",
   "execution_count": null,
   "id": "f63e2e0d",
   "metadata": {},
   "outputs": [],
   "source": []
  }
 ],
 "metadata": {
  "kernelspec": {
   "display_name": "venv (3.11.8)",
   "language": "python",
   "name": "python3"
  },
  "language_info": {
   "codemirror_mode": {
    "name": "ipython",
    "version": 3
   },
   "file_extension": ".py",
   "mimetype": "text/x-python",
   "name": "python",
   "nbconvert_exporter": "python",
   "pygments_lexer": "ipython3",
   "version": "3.11.8"
  }
 },
 "nbformat": 4,
 "nbformat_minor": 5
}
