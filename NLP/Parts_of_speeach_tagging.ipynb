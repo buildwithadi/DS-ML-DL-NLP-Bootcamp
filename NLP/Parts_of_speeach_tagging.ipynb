{
 "cells": [],
 "metadata": {
  "kernelspec": {
   "display_name": "venv (3.11.8)",
   "language": "python",
   "name": "python3"
  },
  "language_info": {
   "name": "python",
   "version": "3.11.8"
  }
 },
 "nbformat": 4,
 "nbformat_minor": 5
}
